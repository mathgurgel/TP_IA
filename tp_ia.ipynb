{
  "cells": [
    {
      "cell_type": "markdown",
      "metadata": {
        "colab_type": "text",
        "id": "view-in-github"
      },
      "source": [
        "<a href=\"https://colab.research.google.com/github/mathgurgel/TP_IA/blob/main/tp_ia.ipynb\" target=\"_parent\"><img src=\"https://colab.research.google.com/assets/colab-badge.svg\" alt=\"Open In Colab\"/></a>"
      ]
    },
    {
      "attachments": {},
      "cell_type": "markdown",
      "metadata": {},
      "source": [
        "# Algoritmos de Classificação"
      ]
    },
    {
      "cell_type": "code",
      "execution_count": 2,
      "metadata": {},
      "outputs": [],
      "source": [
        "from sklearn.linear_model import LogisticRegression\n",
        "from sklearn.metrics import accuracy_score, f1_score\n",
        "\n",
        "import pandas as pd"
      ]
    },
    {
      "attachments": {},
      "cell_type": "markdown",
      "metadata": {},
      "source": [
        "#### Logistic Regression"
      ]
    },
    {
      "cell_type": "code",
      "execution_count": 3,
      "metadata": {
        "id": "ZEwRQ1Mqfo9n"
      },
      "outputs": [],
      "source": [
        "def logistic_regression():\n",
        "    # Carrega os dados de treinamento e teste\n",
        "    df_training = pd.read_csv('conjunto_de_dados/falencia-treinamento.csv')\n",
        "    df_test = pd.read_csv('conjunto_de_dados/falencia-teste.csv')\n",
        "\n",
        "    # Carrega o resultado esperado do modelo de teste\n",
        "    df_test_result = pd.read_csv('conjunto_de_dados/modelo-submissao.csv')\n",
        "\n",
        "    # Separa as variáveis independentes e dependentes (treinamento)\n",
        "    independent_variables_training = df_training.drop('Resultado', axis='columns')\n",
        "    dependent_variable_training = df_training['Resultado']\n",
        "\n",
        "    # Recebe as variáveis independentes do conjunto de teste\n",
        "    independent_variables_test = df_test\n",
        "\n",
        "    # Cria o modelo de regressão logística\n",
        "    logistic_regression = LogisticRegression()\n",
        "\n",
        "    # Treina o modelo\n",
        "    logistic_regression.fit(independent_variables_training, dependent_variable_training)\n",
        "\n",
        "    # Faz a previsão do modelo\n",
        "    prediction = logistic_regression.predict(independent_variables_test) # Resultado do modelo\n",
        "\n",
        "    # Calcula a acurácia do modelo\n",
        "    accuracy = accuracy_score(df_test_result['Resultado'], prediction)\n",
        "    f_measure = f1_score(df_test_result['Resultado'], prediction)\n",
        "\n",
        "    print('Acurácia: ', accuracy)\n",
        "    print('F-Measure: ', f_measure)"
      ]
    },
    {
      "attachments": {},
      "cell_type": "markdown",
      "metadata": {},
      "source": [
        "#### Decision Tree"
      ]
    },
    {
      "cell_type": "code",
      "execution_count": null,
      "metadata": {},
      "outputs": [],
      "source": []
    },
    {
      "attachments": {},
      "cell_type": "markdown",
      "metadata": {},
      "source": [
        "#### Random Forest"
      ]
    },
    {
      "cell_type": "code",
      "execution_count": null,
      "metadata": {},
      "outputs": [],
      "source": []
    },
    {
      "attachments": {},
      "cell_type": "markdown",
      "metadata": {},
      "source": [
        "#### Resultados"
      ]
    },
    {
      "cell_type": "code",
      "execution_count": 4,
      "metadata": {},
      "outputs": [
        {
          "name": "stdout",
          "output_type": "stream",
          "text": [
            "Acurácia:  0.73\n",
            "F-Measure:  0.4489795918367347\n"
          ]
        }
      ],
      "source": [
        "logistic_regression()"
      ]
    }
  ],
  "metadata": {
    "colab": {
      "include_colab_link": true,
      "provenance": []
    },
    "kernelspec": {
      "display_name": "Python 3",
      "name": "python3"
    },
    "language_info": {
      "codemirror_mode": {
        "name": "ipython",
        "version": 3
      },
      "file_extension": ".py",
      "mimetype": "text/x-python",
      "name": "python",
      "nbconvert_exporter": "python",
      "pygments_lexer": "ipython3",
      "version": "3.11.1"
    }
  },
  "nbformat": 4,
  "nbformat_minor": 0
}
