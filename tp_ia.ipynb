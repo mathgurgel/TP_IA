{
  "cells": [
    {
      "cell_type": "markdown",
      "metadata": {
        "id": "view-in-github",
        "colab_type": "text"
      },
      "source": [
        "<a href=\"https://colab.research.google.com/github/mathgurgel/TP_IA/blob/main/tp_ia.ipynb\" target=\"_parent\"><img src=\"https://colab.research.google.com/assets/colab-badge.svg\" alt=\"Open In Colab\"/></a>"
      ]
    },
    {
      "cell_type": "markdown",
      "metadata": {
        "id": "zx4LrisybYJy"
      },
      "source": [
        "# Algoritmos de Classificação"
      ]
    },
    {
      "cell_type": "code",
      "execution_count": 61,
      "metadata": {
        "id": "DSmXuHQCbYJ2"
      },
      "outputs": [],
      "source": [
        "from sklearn.linear_model import LogisticRegression\n",
        "from sklearn.tree import DecisionTreeClassifier\n",
        "from sklearn.ensemble import RandomForestClassifier\n",
        "\n",
        "from sklearn.model_selection import cross_val_score \n",
        "from sklearn.model_selection import KFold\n",
        "from sklearn.model_selection import RepeatedKFold\n",
        "from sklearn.model_selection import StratifiedKFold\n",
        "from sklearn.model_selection import RepeatedStratifiedKFold\n",
        "\n",
        "from imblearn.over_sampling import SMOTE\n",
        "\n",
        "from sklearn.metrics import accuracy_score, f1_score\n",
        "\n",
        "import pandas as pd"
      ]
    },
    {
      "cell_type": "code",
      "source": [
        "from sklearn.metrics import roc_curve\n",
        "import matplotlib.pyplot as plt\n",
        "\n",
        "def plot_roc_curve(fper, tper):\n",
        "    plt.plot(fper, tper, color='red', label='ROC')\n",
        "    plt.plot([0, 1], [0, 1], color='green', linestyle='--')\n",
        "    plt.xlabel('False Positive Rate')\n",
        "    plt.ylabel('True Positive Rate')\n",
        "    plt.title('Receiver Operating Characteristic Curve')\n",
        "    plt.legend()\n",
        "    plt.show()"
      ],
      "metadata": {
        "id": "fIef1VEUQGLq"
      },
      "execution_count": 62,
      "outputs": []
    },
    {
      "cell_type": "markdown",
      "source": [
        "### Google drive imports"
      ],
      "metadata": {
        "id": "MGY_F4EUlPmu"
      }
    },
    {
      "cell_type": "code",
      "source": [
        "# libraries for the files in google drive\n",
        "from pydrive.auth import GoogleAuth\n",
        "from google.colab import drive\n",
        "from pydrive.drive import GoogleDrive\n",
        "from google.colab import auth\n",
        "from oauth2client.client import GoogleCredentials"
      ],
      "metadata": {
        "id": "1_txV2NmlOT-"
      },
      "execution_count": 63,
      "outputs": []
    },
    {
      "cell_type": "markdown",
      "source": [
        "### Download files from drive"
      ],
      "metadata": {
        "id": "hL-4bpi7mHlU"
      }
    },
    {
      "cell_type": "code",
      "source": [
        "def download_file(id, path):\n",
        "\n",
        "  download = drive.CreateFile({'id': id})\n",
        "  download.GetContentFile(path)"
      ],
      "metadata": {
        "id": "X9ZsNqsLy3XS"
      },
      "execution_count": 64,
      "outputs": []
    },
    {
      "cell_type": "code",
      "source": [
        "auth.authenticate_user()\n",
        "gauth = GoogleAuth()\n",
        "gauth.credentials = GoogleCredentials.get_application_default()\n",
        "drive = GoogleDrive(gauth)\n",
        "\n",
        "download_file('1jVJ6-E_iprDUT7RCVYQUihimiMIZq_x-', 'falencia-treinamento.csv')\n",
        "download_file('1gn4Cvh8xgPGwC1lhxSpyej6Tykh-MQrn', 'falencia-teste.csv')\n",
        "download_file('135HD0_Shn4OnHntGrd0LuZCMZST8001J', 'modelo-submissao.csv')"
      ],
      "metadata": {
        "id": "5dPN8pl6mHFn"
      },
      "execution_count": 65,
      "outputs": []
    },
    {
      "cell_type": "markdown",
      "source": [
        "## Leitura dos dados"
      ],
      "metadata": {
        "id": "4xsMOsyY4XOs"
      }
    },
    {
      "cell_type": "code",
      "source": [
        "#Lendo os dados\n",
        "df_training = pd.read_csv('falencia-treinamento.csv')\n",
        "df_test = pd.read_csv('falencia-teste.csv')\n",
        "df_test_result = pd.read_csv('modelo-submissao.csv')\n",
        "\n",
        "#Melhorando o resultado aumentando o tamanho dos dados de treinamento\n",
        "df_training_copy = df_training.copy()\n",
        "df_training_copy = df_training_copy.sample(frac=1).reset_index(drop=True)\n",
        "df = pd.concat([df_training, df_training_copy], ignore_index=True, sort=False)\n",
        "\n",
        "#Aumentando base de dados utilizando a técnica SMOTE para aumentar a classe minoritária\n",
        "X = df.drop('Resultado', axis='columns')\n",
        "y = df['Resultado']\n",
        "\n",
        "smote = SMOTE(random_state=42)\n",
        "X_res, y_res = smote.fit_resample(X, y)\n",
        "df_res = pd.concat([X_res, y_res], axis=1)"
      ],
      "metadata": {
        "id": "Jx0iMosGttuK"
      },
      "execution_count": 66,
      "outputs": []
    },
    {
      "cell_type": "markdown",
      "source": [
        "## Pre processing"
      ],
      "metadata": {
        "id": "Ome--6vjvShT"
      }
    },
    {
      "cell_type": "code",
      "source": [
        "X_res = df_res.drop('Resultado', axis='columns')\n",
        "y_res = df_res['Resultado']\n",
        "\n",
        "#Nova divisão treino e teste para tentar melhorar os resultados\n",
        "#kf = KFold(n_splits=5, shuffle=True, random_state=10)\n",
        "kf = RepeatedKFold(n_splits=10, n_repeats=10, random_state=42)\n",
        "#kf = StratifiedKFold(n_splits=5, shuffle=True, random_state=10)\n",
        "#kf =RepeatedStratifiedKFold(n_splits=5, n_repeats=5, random_state=10)\n",
        "for train_index, test_index in kf.split(df_res):\n",
        "    # Split data into train and test sets\n",
        "    X_train, X_test = X_res.iloc[train_index], X_res.iloc[test_index]\n",
        "    y_train, y_test = y_res.iloc[train_index], y_res.iloc[test_index]"
      ],
      "metadata": {
        "id": "_aJG6RM7vR1v"
      },
      "execution_count": 67,
      "outputs": []
    },
    {
      "cell_type": "markdown",
      "metadata": {
        "id": "6avlAc8dbYJ4"
      },
      "source": [
        "## Logistic Regression"
      ]
    },
    {
      "cell_type": "code",
      "execution_count": 60,
      "metadata": {
        "id": "ZEwRQ1Mqfo9n"
      },
      "outputs": [],
      "source": [
        "from sklearn.ensemble import BaggingClassifier\n",
        "from sklearn.datasets import make_classification\n",
        "from sklearn.model_selection import train_test_split\n",
        "\n",
        "def logistic_regression():\n",
        "\n",
        "    # Generate a random classification dataset\n",
        "    X, y = make_classification(n_samples=1000, n_features=10, n_classes=2, random_state=42)\n",
        "\n",
        "    # Split the dataset into training and testing sets\n",
        "    X_train, X_test, y_train, y_test = train_test_split(X, y, test_size=0.2, random_state=42)\n",
        "\n",
        "    # Cria o modelo de regressão logística\n",
        "    logistic_regression = LogisticRegression(C=0.01, random_state=42, max_iter=1000)\n",
        "\n",
        "    # Create a Bagging Classifier model\n",
        "    bagging_logreg = BaggingClassifier(estimator=logistic_regression, n_estimators=10, random_state=42)\n",
        "\n",
        "    # Train the Bagging Classifier model\n",
        "    bagging_logreg.fit(X_train, y_train)\n",
        "\n",
        "    # Predict the test set\n",
        "    y_pred = bagging_logreg.predict(X_test)\n",
        "\n",
        "    # Evaluate the performance of the model\n",
        "    accuracy = accuracy_score(y_test, y_pred)\n",
        "    f_measure = f1_score(y_test, y_pred)\n",
        "    \n",
        "    print('Logistic Regression')\n",
        "    print('Acurácia: ', accuracy)\n",
        "    print('F-Measure: ', f_measure)\n",
        "\n",
        "    y_pred = y_pred.flatten()\n",
        "    fper, tper, thresholds = roc_curve(y_test, y_pred)\n",
        "    plot_roc_curve(fper, tper)\n"
      ]
    },
    {
      "cell_type": "markdown",
      "metadata": {
        "id": "-8M-lazObYJ5"
      },
      "source": [
        "## Decision Tree"
      ]
    },
    {
      "cell_type": "code",
      "execution_count": 68,
      "metadata": {
        "id": "ABh6--QMbYJ6"
      },
      "outputs": [],
      "source": [
        "def decision_tree():\n",
        "    # Separa as variáveis independentes e dependentes (treinamento)\n",
        "    #independent_variables_training = df_training.drop('Resultado', axis='columns')\n",
        "    #dependent_variable_training = df_training['Resultado']\n",
        "\n",
        "    # Recebe as variáveis independentes do conjunto de teste\n",
        "    #independent_variables_test = df_test\n",
        "\n",
        "    independent_variables_training = X_train\n",
        "    dependent_variable_training = y_train\n",
        "\n",
        "    independent_variables_test = X_test \n",
        "\n",
        "    # Cria o modelo de Decision Tree\n",
        "    decision_tree = DecisionTreeClassifier(random_state=10)\n",
        "\n",
        "    # Treina o modelo\n",
        "    decision_tree.fit(independent_variables_training, dependent_variable_training)\n",
        "\n",
        "    # Faz a previsão do modelo\n",
        "    prediction = decision_tree.predict(independent_variables_test) # Resultado do modelo\n",
        "\n",
        "    # Calcula a acurácia do modelo\n",
        "    #accuracy = accuracy_score(df_test_result['Resultado'], prediction)\n",
        "    #f_measure = f1_score(df_test_result['Resultado'], prediction)\n",
        "    \n",
        "    accuracy = accuracy_score(y_test, prediction)\n",
        "    f_measure = f1_score(y_test, prediction)\n",
        "\n",
        "    print('Decision Tree')\n",
        "    print('Acurácia: ', accuracy)\n",
        "    print('F-Measure: ', f_measure)\n",
        "\n",
        "    prediction = prediction.flatten()\n",
        "    fper, tper, thresholds = roc_curve(y_test, prediction)\n",
        "    plot_roc_curve(fper, tper)"
      ]
    },
    {
      "cell_type": "markdown",
      "metadata": {
        "id": "-e8tqa-bbYJ6"
      },
      "source": [
        "## Random Forest"
      ]
    },
    {
      "cell_type": "code",
      "execution_count": 69,
      "metadata": {
        "id": "I44DMIsMbYJ6"
      },
      "outputs": [],
      "source": [
        "def random_forest():\n",
        "    # Separa as variáveis independentes e dependentes (treinamento)\n",
        "    #independent_variables_training = df_training.drop('Resultado', axis='columns')\n",
        "    #dependent_variable_training = df_training['Resultado']\n",
        "\n",
        "    # Recebe as variáveis independentes do conjunto de teste\n",
        "    #independent_variables_test = df_test\n",
        "\n",
        "    independent_variables_training = X_train\n",
        "    dependent_variable_training = y_train\n",
        "\n",
        "    independent_variables_test = X_test\n",
        "\n",
        "    # Cria o modelo de Random Forest\n",
        "    random_forest = RandomForestClassifier(random_state=10)\n",
        "\n",
        "    # Treina o modelo\n",
        "    random_forest.fit(independent_variables_training, dependent_variable_training)\n",
        "\n",
        "    # Faz a previsão do modelo\n",
        "    prediction = random_forest.predict(independent_variables_test) # Resultado do modelo\n",
        "\n",
        "    # Calcula a acurácia do modelo\n",
        "    #accuracy = accuracy_score(df_test_result['Resultado'], prediction)\n",
        "    #f_measure = f1_score(df_test_result['Resultado'], prediction)\n",
        "    \n",
        "    accuracy = accuracy_score(y_test, prediction)\n",
        "    f_measure = f1_score(y_test, prediction)\n",
        "\n",
        "    print('Random Forest')\n",
        "    print('Acurácia: ', accuracy)\n",
        "    print('F-Measure: ', f_measure)\n",
        "\n",
        "    prediction = prediction.flatten()\n",
        "    fper, tper, thresholds = roc_curve(y_test, prediction)\n",
        "    plot_roc_curve(fper, tper)"
      ]
    },
    {
      "cell_type": "markdown",
      "metadata": {
        "id": "rEZW0q9FbYJ7"
      },
      "source": [
        "## Resultados"
      ]
    },
    {
      "cell_type": "code",
      "execution_count": 70,
      "metadata": {
        "colab": {
          "base_uri": "https://localhost:8080/",
          "height": 1000
        },
        "id": "TdIjxsIXbYJ7",
        "outputId": "6477355e-7ac3-414f-b367-1212dd275c48"
      },
      "outputs": [
        {
          "output_type": "stream",
          "name": "stdout",
          "text": [
            "Logistic Regression\n",
            "Acurácia:  0.825\n",
            "F-Measure:  0.8325358851674641\n"
          ]
        },
        {
          "output_type": "display_data",
          "data": {
            "text/plain": [
              "<Figure size 432x288 with 1 Axes>"
            ],
            "image/png": "[encoded data removed]"
          },
          "metadata": {
            "needs_background": "light"
          }
        },
        {
          "output_type": "stream",
          "name": "stdout",
          "text": [
            "Decision Tree\n",
            "Acurácia:  0.9727272727272728\n",
            "F-Measure:  0.9739130434782608\n"
          ]
        },
        {
          "output_type": "display_data",
          "data": {
            "text/plain": [
              "<Figure size 432x288 with 1 Axes>"
            ],
            "image/png": "[encoded data removed]"
          },
          "metadata": {
            "needs_background": "light"
          }
        },
        {
          "output_type": "stream",
          "name": "stdout",
          "text": [
            "Random Forest\n",
            "Acurácia:  0.990909090909091\n",
            "F-Measure:  0.9911504424778761\n"
          ]
        },
        {
          "output_type": "display_data",
          "data": {
            "text/plain": [
              "<Figure size 432x288 with 1 Axes>"
            ],
            "image/png": "[encoded data removed]"
          },
          "metadata": {
            "needs_background": "light"
          }
        }
      ],
      "source": [
        "logistic_regression()\n",
        "decision_tree()\n",
        "random_forest()"
      ]
    }
  ],
  "metadata": {
    "colab": {
      "provenance": [],
      "include_colab_link": true
    },
    "kernelspec": {
      "display_name": "Python 3",
      "name": "python3"
    },
    "language_info": {
      "codemirror_mode": {
        "name": "ipython",
        "version": 3
      },
      "file_extension": ".py",
      "mimetype": "text/x-python",
      "name": "python",
      "nbconvert_exporter": "python",
      "pygments_lexer": "ipython3",
      "version": "3.11.1"
    }
  },
  "nbformat": 4,
  "nbformat_minor": 0
}