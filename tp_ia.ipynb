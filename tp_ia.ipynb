{
  "cells": [
    {
      "cell_type": "markdown",
      "metadata": {
        "colab_type": "text",
        "id": "view-in-github"
      },
      "source": [
        "<a href=\"https://colab.research.google.com/github/mathgurgel/TP_IA/blob/main/tp_ia.ipynb\" target=\"_parent\"><img src=\"https://colab.research.google.com/assets/colab-badge.svg\" alt=\"Open In Colab\"/></a>"
      ]
    },
    {
      "cell_type": "markdown",
      "metadata": {
        "id": "zx4LrisybYJy"
      },
      "source": [
        "# Algoritmos de Classificação"
      ]
    },
    {
      "cell_type": "code",
      "execution_count": 6,
      "metadata": {
        "id": "DSmXuHQCbYJ2"
      },
      "outputs": [],
      "source": [
        "from sklearn.linear_model import LogisticRegression\n",
        "from sklearn.tree import DecisionTreeClassifier\n",
        "from sklearn.ensemble import RandomForestClassifier\n",
        "\n",
        "from sklearn.metrics import accuracy_score, f1_score\n",
        "\n",
        "import pandas as pd"
      ]
    },
    {
      "cell_type": "markdown",
      "metadata": {
        "id": "6avlAc8dbYJ4"
      },
      "source": [
        "#### Logistic Regression"
      ]
    },
    {
      "cell_type": "code",
      "execution_count": 12,
      "metadata": {
        "id": "ZEwRQ1Mqfo9n"
      },
      "outputs": [],
      "source": [
        "def logistic_regression():\n",
        "    # Carrega os dados de treinamento e teste\n",
        "    df_training = pd.read_csv('conjunto_de_dados/falencia-treinamento.csv')\n",
        "    df_test = pd.read_csv('conjunto_de_dados/falencia-teste.csv')\n",
        "\n",
        "    # Carrega o resultado esperado do modelo de teste\n",
        "    df_test_result = pd.read_csv('conjunto_de_dados/modelo-submissao.csv')\n",
        "\n",
        "    # Separa as variáveis independentes e dependentes (treinamento)\n",
        "    independent_variables_training = df_training.drop('Resultado', axis='columns')\n",
        "    dependent_variable_training = df_training['Resultado']\n",
        "\n",
        "    # Recebe as variáveis independentes do conjunto de teste\n",
        "    independent_variables_test = df_test\n",
        "\n",
        "    # Cria o modelo de regressão logística\n",
        "    logistic_regression = LogisticRegression()\n",
        "\n",
        "    # Treina o modelo\n",
        "    logistic_regression.fit(independent_variables_training, dependent_variable_training)\n",
        "\n",
        "    # Faz a previsão do modelo\n",
        "    prediction = logistic_regression.predict(independent_variables_test) # Resultado do modelo\n",
        "\n",
        "    # Calcula a acurácia do modelo\n",
        "    accuracy = accuracy_score(df_test_result['Resultado'], prediction)\n",
        "    f_measure = f1_score(df_test_result['Resultado'], prediction)\n",
        "\n",
        "    print('Logistic Regression')\n",
        "    print('Acurácia: ', accuracy)\n",
        "    print('F-Measure: ', f_measure)"
      ]
    },
    {
      "cell_type": "markdown",
      "metadata": {
        "id": "-8M-lazObYJ5"
      },
      "source": [
        "#### Decision Tree"
      ]
    },
    {
      "cell_type": "code",
      "execution_count": 13,
      "metadata": {
        "id": "ABh6--QMbYJ6"
      },
      "outputs": [],
      "source": [
        "def decision_tree():\n",
        "    # Carrega os dados de treinamento e teste\n",
        "    df_training = pd.read_csv('conjunto_de_dados/falencia-treinamento.csv')\n",
        "    df_test = pd.read_csv('conjunto_de_dados/falencia-teste.csv')\n",
        "\n",
        "    # Carrega o resultado esperado do modelo de teste\n",
        "    df_test_result = pd.read_csv('conjunto_de_dados/modelo-submissao.csv')\n",
        "\n",
        "    # Separa as variáveis independentes e dependentes (treinamento)\n",
        "    independent_variables_training = df_training.drop('Resultado', axis='columns')\n",
        "    dependent_variable_training = df_training['Resultado']\n",
        "\n",
        "    # Recebe as variáveis independentes do conjunto de teste\n",
        "    independent_variables_test = df_test\n",
        "\n",
        "    # Cria o modelo de Decision Tree\n",
        "    decision_tree = DecisionTreeClassifier()\n",
        "\n",
        "    # Treina o modelo\n",
        "    decision_tree.fit(independent_variables_training, dependent_variable_training)\n",
        "\n",
        "    # Faz a previsão do modelo\n",
        "    prediction = decision_tree.predict(independent_variables_test) # Resultado do modelo\n",
        "\n",
        "    # Calcula a acurácia do modelo\n",
        "    accuracy = accuracy_score(df_test_result['Resultado'], prediction)\n",
        "    f_measure = f1_score(df_test_result['Resultado'], prediction)\n",
        "\n",
        "    print('Decision Tree')\n",
        "    print('Acurácia: ', accuracy)\n",
        "    print('F-Measure: ', f_measure)"
      ]
    },
    {
      "cell_type": "markdown",
      "metadata": {
        "id": "-e8tqa-bbYJ6"
      },
      "source": [
        "#### Random Forest"
      ]
    },
    {
      "cell_type": "code",
      "execution_count": 14,
      "metadata": {
        "id": "I44DMIsMbYJ6"
      },
      "outputs": [],
      "source": [
        "def random_forest():\n",
        "    # Carrega os dados de treinamento e teste\n",
        "    df_training = pd.read_csv('conjunto_de_dados/falencia-treinamento.csv')\n",
        "    df_test = pd.read_csv('conjunto_de_dados/falencia-teste.csv')\n",
        "\n",
        "    # Carrega o resultado esperado do modelo de teste\n",
        "    df_test_result = pd.read_csv('conjunto_de_dados/modelo-submissao.csv')\n",
        "\n",
        "    # Separa as variáveis independentes e dependentes (treinamento)\n",
        "    independent_variables_training = df_training.drop('Resultado', axis='columns')\n",
        "    dependent_variable_training = df_training['Resultado']\n",
        "\n",
        "    # Recebe as variáveis independentes do conjunto de teste\n",
        "    independent_variables_test = df_test\n",
        "\n",
        "    # Cria o modelo de Random Forest\n",
        "    random_forest = RandomForestClassifier()\n",
        "\n",
        "    # Treina o modelo\n",
        "    random_forest.fit(independent_variables_training, dependent_variable_training)\n",
        "\n",
        "    # Faz a previsão do modelo\n",
        "    prediction = random_forest.predict(independent_variables_test) # Resultado do modelo\n",
        "\n",
        "    # Calcula a acurácia do modelo\n",
        "    accuracy = accuracy_score(df_test_result['Resultado'], prediction)\n",
        "    f_measure = f1_score(df_test_result['Resultado'], prediction)\n",
        "\n",
        "    print('Random Forest')\n",
        "    print('Acurácia: ', accuracy)\n",
        "    print('F-Measure: ', f_measure)"
      ]
    },
    {
      "cell_type": "markdown",
      "metadata": {
        "id": "rEZW0q9FbYJ7"
      },
      "source": [
        "#### Resultados"
      ]
    },
    {
      "cell_type": "code",
      "execution_count": 15,
      "metadata": {
        "colab": {
          "base_uri": "https://localhost:8080/"
        },
        "id": "TdIjxsIXbYJ7",
        "outputId": "7711b905-4b1c-400d-b11a-70c54a61ea40"
      },
      "outputs": [
        {
          "name": "stdout",
          "output_type": "stream",
          "text": [
            "Logistic Regression\n",
            "Acurácia:  0.73\n",
            "F-Measure:  0.4489795918367347\n",
            "Decision Tree\n",
            "Acurácia:  0.74\n",
            "F-Measure:  0.59375\n",
            "Random Forest\n",
            "Acurácia:  0.82\n",
            "F-Measure:  0.6666666666666667\n"
          ]
        }
      ],
      "source": [
        "logistic_regression()\n",
        "decision_tree()\n",
        "random_forest()"
      ]
    }
  ],
  "metadata": {
    "colab": {
      "include_colab_link": true,
      "provenance": []
    },
    "kernelspec": {
      "display_name": "Python 3",
      "name": "python3"
    },
    "language_info": {
      "codemirror_mode": {
        "name": "ipython",
        "version": 3
      },
      "file_extension": ".py",
      "mimetype": "text/x-python",
      "name": "python",
      "nbconvert_exporter": "python",
      "pygments_lexer": "ipython3",
      "version": "3.11.1"
    }
  },
  "nbformat": 4,
  "nbformat_minor": 0
}
